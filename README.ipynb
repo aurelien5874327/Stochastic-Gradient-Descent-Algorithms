{
 "cells": [
  {
   "cell_type": "markdown",
   "id": "4a70b2fa",
   "metadata": {},
   "source": [
    "## Stochastic gradient descent algorithms\n",
    "\n",
    "We are interested here in stochastic gradient descent algorithms, which are used to minimize functions with suitable smoothness properties. For a machine learning problem, we are looking for parameters that minimise a convex loss function, for which computing the exact gradient is computationally intensive, as all the data set is used. The interest of stochastic algorithms is therefore to use at each iteration an approximation of the gradient computed with a randomly selected subset of the data.\n",
    "\n",
    "Will use a simple machine learning example, multivariate linear regression, to easily test the different algorithms.\n",
    "\n",
    "### Multivariate linear regression\n",
    "\n",
    "Given a data set $ \\{y_i, x_{i,1}, x_{i,2}, ..., x_{i,p-1}\\}$ of $n$ statistical unit, the model assumes that the relationship between the variable $y_i$ and the $x_i$ vector is given by the relationship :\n",
    "$$y_i =  \\sum_{j=1}^{p-1}x_{i,j}w_j + w_p + \\epsilon_i $$\n",
    "where $w$ is the $p$-dimensional parameter vector and  $\\epsilon_i$ is the error term.\n",
    "We will write $X \\in \\mathbb{R}^{n\\times p}$ the design matrix, such that \n",
    "$$\\forall i=1,...,n ~~ \\forall j=1,...,p-1 ~~~~ X_{i,j}=x_{i,j}$$ $$\\forall i = 1,...,n ~~~~ X_{i,p} = 1$$\n",
    "We can now simply write $Y = Xw + \\epsilon$\n",
    "\n",
    "So, we are looking for the $w$ vector that minimize the following loss function L :\n",
    "$$ L = \\frac{1}{n}\\sum_{i=1}^n (y_i - \\sum_{j=1}^{p}X_{i,j}w_j)^2 $$\n",
    "\n",
    "The partial derivative of $L$ with respect to $w_k$ is :\n",
    "$$ \\frac{\\partial L}{\\partial w_k} = \\frac{2}{n} \\sum_{i=1}^n X_{i,k} (y_i - \\sum_{j=1}^{p}X_{i,j}w_j)$$\n",
    "\n",
    "To be computed, this sum requires to use the entire data set. That's why we will use an approximation, using only the $i$-th statistical unit randomly chosen :\n",
    "$$(\\frac{\\partial L}{\\partial w_k})_{approx} = 2 *  X_{i,k} (y_i - \\sum_{j=1}^{p}X_{i,j}w_j)$$ \n",
    "\n",
    "We can easily verify that :\n",
    "$$ \\mathbb{E}[2 *  X_{i,k} (y_i - \\sum_{j=1}^{p}X_{i,j}w_j)]= \\frac{\\partial L}{\\partial w_k}$$ \n",
    "\n",
    "This approximation will be used in stochastic gradient descent algorithm."
   ]
  }
 ],
 "metadata": {
  "kernelspec": {
   "display_name": "Python 3",
   "language": "python",
   "name": "python3"
  },
  "language_info": {
   "codemirror_mode": {
    "name": "ipython",
    "version": 3
   },
   "file_extension": ".py",
   "mimetype": "text/x-python",
   "name": "python",
   "nbconvert_exporter": "python",
   "pygments_lexer": "ipython3",
   "version": "3.8.8"
  }
 },
 "nbformat": 4,
 "nbformat_minor": 5
}
